{
 "cells": [
  {
   "cell_type": "markdown",
   "id": "0850bcfa",
   "metadata": {},
   "source": [
    "# Curso Profesional de Scikt-learn"
   ]
  },
  {
   "cell_type": "markdown",
   "id": "ec555ba9",
   "metadata": {},
   "source": [
    "Scikit-learn comienza su historia en 2007 por David Cournapeau como un proyecto dentro del Google Summer of Code. Matthieu Brucher continúa como parte de su tesis.\n",
    "\n",
    "- La versión estable actual es la v0.22.\n",
    "- Curva de aprendizaje suave.\n",
    "- Es una libreria muy versátil.\n",
    "- Comunidad de soporte.\n",
    "- Usado en producción.\n",
    "- Integración con librerias externas.\n",
    "\n",
    "\n",
    "## Módulos de Sckit-learn\n",
    "\n",
    "1. Clasificación\n",
    "2. Regresión\n",
    "3. Clustering\n",
    "4. Preprocesamiento\n",
    "5. Reducción de la dimensionalidad\n",
    "6. Selección del modelo\n",
    "\n",
    "## Tipos de Aprendizaje de maquina\n",
    "1. **Aprendizaje Supervisado (por observación)**: De nuestros datos se puede inferir directamente.\n",
    "2. **Aprendizaje por Refuerzo (prueba y error)**: No tenemos información precisa sobre lo que esperamos pero sí podemos evaluar si una decisión tomada por la máquina es buena o mala.\n",
    "3. **Aprendizaje No Supervisado (por descubrimiento)**: No sabemos qué esperar de nuestros datos y queremos explorar la estructura o las relaciones del dataset.\n",
    "\n",
    "*Nota:* El ML es solamente una de las posibles ramas que tiene la inteligencia artificial, para otro tipos de problemas existen:\n",
    "- Algoritmos evolutivos.\n",
    "- Lógica difusa.\n",
    "- Agentes.\n",
    "- Sistemas expertos.\n",
    "\n",
    "## Limitaciones de Sklearn\n",
    "1. No es una herramienta de Computer Vision (imagenes).\n",
    "2. No se puede correr en GPUs, solo en CPU (las tareas pueden tomar más tiempo).\n",
    "3. No es una herramienta de estadística avanzada, un alternativa podría ser SciPy.\n",
    "4. No es muy flexible en temas de Deep Learning.\n",
    "\n",
    "## Problema de Clasificación\n",
    "La variable de salida se puede definir en ciertas categorias bien definidas y excluyentes entre sí.\n",
    "\n",
    "## Problema de Regresión\n",
    "La variable de salida es continua y se requiere modelar el comportamiento dadas otras variables correlacionadas.\n",
    "\n",
    "## Problema de Clustering\n",
    "Queremos descubrir subconjuntos de datos similares dentro del dataset o queremos encontrar valores que se salen del comportamiento global.\n",
    "\n",
    "## Fundamentos matematicos que se requieren\n",
    "1. Funciones y trigonometría\n",
    "2. Algebra lineal\n",
    "3. Optimización de funciones (maximos y minimos)\n",
    "4. Calculo basico (derivas e integrales)\n",
    "5. Probabilidad básica\n",
    "6. Combinaciones y permutaciones\n",
    "7. Variables aletorias y sus distribuciones\n",
    "8. Teorema de Bayes\n",
    "9. Pruebas de hipotesis e intervalos de confianza\n",
    "\n",
    "\n",
    "### Datasets que usaremos en el curso:\n",
    "\n",
    "- **World Happiness Report**: Es un dataset que desde el 2012 recolecta variables sobre diferentes países y las relaciona con el nivel de felicidad de sus habitantes. *Nota: Este data set lo vamos a utilizar para temas de regresiones.*\n",
    "\n",
    "- **The Ultimate Halloween Candy Power Ranking**: Es un estudio online de 269 mil votos de más de 8371 IPs deferentes. Para 85 tipos de dulces diferentes se evaluaron tanto características del dulce como la opinión y satisfacción para generar comparaciones. \n",
    "*Nota: Este dataset lo vamos a utilizar para temas de clustering.*\n",
    "\n",
    "- **Heart disease prediction**: Es un subconjunto de variables de un estudio que realizado en 1988 en diferentes regiones del planeta para predecir el riesgo a sufrir una enfermedad relacionada con el corazón. \n",
    "*Nota: Este data set lo vamos a utilizar para temas de clasificación.*\n",
    "\n",
    "## ¿Cómo afectan nuestros features a los modelos de Machine Learning?\n",
    "\n",
    "¿Qué son los features? Son los atributos de nuestro modelo que usamos para realizar una interferencia o predicción. Son las variables de entrada.\n",
    "\n",
    "*Más features simpre es mejor, ¿verdad? La respuesta corta es: NO*. En realidad si tenemos variables que son irrelevantes pasarán estas cosas:\n",
    "\n",
    "- Se le abrirá el paso al ruido.\n",
    "- Aumentará el costo computacional.\n",
    "- Si introducimos demasiados features y estos tienen valores faltantes, se harán **sesgos** muy significativos y vamos a perder esa capacidad de predicción. \n",
    "\n",
    "*Nota: Hacer una buena selección de nuestro features, hará que nuestros algoritmos corran de una manera mas eficiente.*\n",
    "\n",
    "**Algo que debemos que recordar es que nuestro modelo de ML puede caer en uno de 2 escenarios que debemos evitar:**\n",
    "\n",
    "* **El Underfitting:** Significa que nuestro modelo es demasiado simple, en donde nuestro modelo no está captando los features y nuestra variable de salida, por lo cual debemos de investigar variables con mas significado o combinaciones o transformaciones para poder llegar a nuestra variable de salida.\n",
    "\n",
    "* **El Overfitting**: Significa que nuestro modelo es demasiado complejo y nuestro algoritmo va a intentar ajustarse a los datos que tenemos, pero no se va a comportar bien con los datos del mundo real. Si tenemos overfiting lo mejor es intentar seleccionar los features de una manera mas critica descartando aquellos que no aporten información o combinando algunos quedándonos con la información que verdaderamente importa.\n",
    "\n",
    "**¿Qué podemos hacer para solucionar estos problemas?**\n",
    "\n",
    "Aplicar técnicas reducción de la dimensionalidad. Utilizaremos el algoritmo de PCA.\n",
    "Aplicar la técnica de la regulación, que consiste en penalizar aquellos features que no le estén aportando o que le estén restando información a nuestro modelo.\n",
    "Balanceo: Se utilizará Oversampling y Undersampling en problemas de rendimiento donde tengamos un conjunto de datos que está desbalanceado, por ejemplo en un problema de clasificación donde tenemos muchos ejemplos de una categoría y muy pocos de otra."
   ]
  },
  {
   "cell_type": "markdown",
   "id": "7876508b",
   "metadata": {},
   "source": [
    "# PCA - Analisis de componentes principales\n",
    "\n",
    "*Reducción de la dimensionalidad*\n",
    "\n",
    "En machine learning es normal encontrarnos con problemas donde tengamos una enorme cantidad de features/relaciones complejas entre ellos y con la variable que queremos predecir.\n",
    "\n",
    "¿Cuando usarlo?\n",
    "1. Nuestro dataset tiene un número alto de features.\n",
    "2. Hay una alta correlación entre los features.\n",
    "3. Overfitting.\n",
    "4. Alto coste computacional.\n",
    "\n",
    "Reducir la complejidad del problema:\n",
    "1. Seleccionando solamente las variables relevantes.\n",
    "2. Combinandolas en nuevas variables que mantengan la información más importante. (varianza de los features)\n",
    "\n",
    "*Proyección de los puntos sobre un plano que mantenga su varianza*\n",
    "\n",
    "## Paso a paso\n",
    "1. Calculamos la matriz de Covarianza para expresar las relaciones entre nuestros features.\n",
    "2. Hallamos los vectores propios y valores propios de esta matriz, para medir al fuerza y la variabilidad de estas relaciones.\n",
    "3. Ordenamos y escogemos los vectores propios con mayor variabilidad, esto es, que aportan más información.\n",
    "\n",
    "Si tenemos un dataset demasiado exigente o un equipo de bajos recursos, podemos usar IPCA.\n",
    "Si nuestros datos no tienen una estructura separable linealmente, y encontramos un KERNEL que pueda mapearlos podemos usar KPCA."
   ]
  },
  {
   "cell_type": "code",
   "execution_count": 1,
   "id": "9d6ab5a8",
   "metadata": {},
   "outputs": [],
   "source": [
    "# Librerias\n",
    "import pandas as pd\n",
    "import sklearn\n",
    "import matplotlib.pyplot as plt\n",
    "\n",
    "from sklearn.decomposition import PCA\n",
    "from sklearn.decomposition import IncrementalPCA\n",
    "\n",
    "from sklearn.linear_model import LogisticRegression\n",
    "from sklearn.preprocessing import StandardScaler\n",
    "from sklearn.model_selection import train_test_split\n"
   ]
  },
  {
   "cell_type": "code",
   "execution_count": 2,
   "id": "72417c25",
   "metadata": {},
   "outputs": [
    {
     "name": "stdout",
     "output_type": "stream",
     "text": [
      "   age  sex  cp  trestbps  chol  fbs  restecg  thalach  exang  oldpeak  slope  \\\n",
      "0   52    1   0       125   212    0        1      168      0      1.0      2   \n",
      "1   53    1   0       140   203    1        0      155      1      3.1      0   \n",
      "2   70    1   0       145   174    0        1      125      1      2.6      0   \n",
      "3   61    1   0       148   203    0        1      161      0      0.0      2   \n",
      "4   62    0   0       138   294    1        1      106      0      1.9      1   \n",
      "\n",
      "   ca  thal  target  \n",
      "0   2     3       0  \n",
      "1   0     3       0  \n",
      "2   0     3       0  \n",
      "3   1     3       0  \n",
      "4   3     2       0  \n"
     ]
    }
   ],
   "source": [
    "\n",
    "dt_heart = pd.read_csv(\"./data/heart.csv\")\n",
    "'''\n",
    "    Data set de paciencias con riesgo de una enfermedad cardiaca\n",
    "    '''\n",
    "print(dt_heart.head())\n",
    "\n",
    "    "
   ]
  },
  {
   "cell_type": "code",
   "execution_count": 3,
   "id": "3723adee",
   "metadata": {},
   "outputs": [
    {
     "name": "stdout",
     "output_type": "stream",
     "text": [
      "Train shape: (717, 13)\n",
      "Test shape: (308, 13)\n",
      "Train target shape: (717,)\n",
      "Test target shape: (308,)\n"
     ]
    }
   ],
   "source": [
    "dt_features = dt_heart.drop(['target'], axis=1) #Eliminar valores nulos\n",
    "dt_target = dt_heart['target']\n",
    "\n",
    "dt_features = StandardScaler().fit_transform(dt_features) #Estandarizar los datos\n",
    "\n",
    "# Dividir entre datos de entrenamiento y datos de prueba\n",
    "x_train, x_test, y_train, y_test = train_test_split(dt_features, dt_target, test_size=0.3, random_state=42)\n",
    "\n",
    "print(f\"Train shape: {x_train.shape}\")\n",
    "print(f\"Test shape: {x_test.shape}\")\n",
    "\n",
    "print(f\"Train target shape: {y_train.shape}\")\n",
    "print(f\"Test target shape: {y_test.shape}\")\n",
    "\n"
   ]
  },
  {
   "cell_type": "code",
   "execution_count": 4,
   "id": "e4680bf1",
   "metadata": {},
   "outputs": [
    {
     "data": {
      "image/png": "[encoded data removed]",
      "text/plain": [
       "<Figure size 640x480 with 1 Axes>"
      ]
     },
     "metadata": {},
     "output_type": "display_data"
    }
   ],
   "source": [
    "# n_components = min(n_samples, n_features) --> default\n",
    "pca = PCA(n_components=3) #Reduccion de dimensionalidad a 2 componentes principales\n",
    "pca.fit(x_train) #Ajustar el modelo PCA con los datos de entrenamiento\n",
    "# Tamaño de bloque --> batch_size\n",
    "ipca = IncrementalPCA(n_components=3, batch_size=10) #Reduccion de dimensionalidad a 2 componentes principales\n",
    "ipca.fit(x_train) #Ajustar el modelo PCA con los datos de entrenamiento\n",
    "plt.plot(range(len(pca.explained_variance_)), pca.explained_variance_ratio_, 'ro-', label='PCA')\n",
    "plt.show()"
   ]
  },
  {
   "cell_type": "markdown",
   "id": "f33b7e17",
   "metadata": {},
   "source": [
    "Se evidencia que las dos primeras componentes aportan casi toda la variabilidad."
   ]
  },
  {
   "cell_type": "code",
   "execution_count": 6,
   "id": "9faf56aa",
   "metadata": {},
   "outputs": [
    {
     "name": "stdout",
     "output_type": "stream",
     "text": [
      "Score PCA: 0.7857142857142857\n",
      "Score IPCA: 0.8051948051948052\n"
     ]
    }
   ],
   "source": [
    "# Regresion logistica\n",
    "logistic = LogisticRegression(solver= 'lbfgs')\n",
    "\n",
    "dt_train = pca.transform(x_train) #Transformar los datos de entrenamiento\n",
    "dt_test = pca.transform(x_test) #Transformar los datos de prueba\n",
    "\n",
    "logistic.fit(dt_train, y_train) #Ajustar el modelo de regresion logistica con los datos de entrenamiento\n",
    "\n",
    "# Accuracy\n",
    "print(f\"Score PCA: {logistic.score(dt_test, y_test)}\") #Evaluar el modelo de regresion logistica con los datos de prueba\n",
    "\n",
    "dt_train = ipca.transform(x_train) #Transformar los datos de entrenamiento\n",
    "dt_test = ipca.transform(x_test) #Transformar los datos de prueba\n",
    "\n",
    "logistic.fit(dt_train, y_train) #Ajustar el modelo de regresion logistica con los datos de entrenamiento\n",
    "\n",
    "# Accuracy\n",
    "print(f\"Score IPCA: {logistic.score(dt_test, y_test)}\") #Evaluar el modelo de regresion logistica con los datos de prueba"
   ]
  },
  {
   "cell_type": "markdown",
   "id": "7b4b9578",
   "metadata": {},
   "source": [
    "### Kernels\n",
    "\n",
    "Un kernel es una función matemática que toma mediciones que se comportan de manera no lineal y las proyecta en un espacio dimesional más grande donde sean linealmente separables.\n",
    "\n",
    "*En machine learning, un conjunto de datos es linealmente separable si se puede trazar un hiperplano (una línea recta en 2D, un plano en 3D, etc.) que separe perfectamente los puntos de datos de diferentes clases entre sí. Si no se puede encontrar tal límite lineal, los datos no son linealmente separables.*\n",
    "\n",
    "![Representación de un Kernel](./images/kernel.png)\n",
    "![Representación de un Kernel](./images/Tipos-kernels.png)"
   ]
  },
  {
   "cell_type": "markdown",
   "id": "6362ce3a",
   "metadata": {},
   "source": [
    "## Kernel PCA"
   ]
  },
  {
   "cell_type": "code",
   "execution_count": 7,
   "id": "a0a2eb5c",
   "metadata": {},
   "outputs": [],
   "source": [
    "# Librerias\n",
    "import pandas as pd\n",
    "import sklearn\n",
    "import matplotlib.pyplot as plt\n",
    "\n",
    "from sklearn.decomposition import KernelPCA\n",
    "from sklearn.decomposition import IncrementalPCA\n",
    "\n",
    "from sklearn.linear_model import LogisticRegression\n",
    "from sklearn.preprocessing import StandardScaler\n",
    "from sklearn.model_selection import train_test_split\n"
   ]
  },
  {
   "cell_type": "code",
   "execution_count": 8,
   "id": "964df44a",
   "metadata": {},
   "outputs": [
    {
     "name": "stdout",
     "output_type": "stream",
     "text": [
      "Score KPCA: 0.7987012987012987\n"
     ]
    }
   ],
   "source": [
    "dt_heart = pd.read_csv(\"./data/heart.csv\")\n",
    "\n",
    "dt_features = dt_heart.drop(['target'], axis=1) #Eliminar valores nulos\n",
    "dt_target = dt_heart['target']\n",
    "\n",
    "dt_features = StandardScaler().fit_transform(dt_features) #Estandarizar los datos\n",
    "# Dividir entre datos de entrenamiento y datos de prueba\n",
    "x_train, x_test, y_train, y_test = train_test_split(dt_features, dt_target, test_size=0.3, random_state=42)\n",
    "\n",
    "kpca = KernelPCA(n_components=4, kernel='poly')\n",
    "kpca.fit(x_train) #Ajustar el modelo PCA con los datos de entrenamiento\n",
    "\n",
    "dt_train = kpca.transform(x_train) #Transformar los datos de entrenamiento\n",
    "dt_test = kpca.transform(x_test) #Transformar los datos de prueba\n",
    "\n",
    "logistic = LogisticRegression(solver= 'lbfgs')\n",
    "logistic.fit(dt_train, y_train) #Ajustar el modelo de regresion logistica con los datos de entrenamiento\n",
    "\n",
    "print(f\"Score KPCA: {logistic.score(dt_test, y_test)}\") #Evaluar el modelo de regresion logistica con los datos de prueba"
   ]
  },
  {
   "cell_type": "code",
   "execution_count": null,
   "id": "54e094d9",
   "metadata": {},
   "outputs": [],
   "source": []
  }
 ],
 "metadata": {
  "kernelspec": {
   "display_name": ".venv",
   "language": "python",
   "name": "python3"
  },
  "language_info": {
   "codemirror_mode": {
    "name": "ipython",
    "version": 3
   },
   "file_extension": ".py",
   "mimetype": "text/x-python",
   "name": "python",
   "nbconvert_exporter": "python",
   "pygments_lexer": "ipython3",
   "version": "3.13.7"
  }
 },
 "nbformat": 4,
 "nbformat_minor": 5
}
