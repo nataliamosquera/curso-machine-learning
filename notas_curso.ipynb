{
 "cells": [
  {
   "cell_type": "markdown",
   "id": "0850bcfa",
   "metadata": {},
   "source": [
    "# Curso Profesional de Scikt-learn"
   ]
  },
  {
   "cell_type": "markdown",
   "id": "ec555ba9",
   "metadata": {},
   "source": [
    "Scikit-learn comienza su historia en 2007 por David Cournapeau como un proyecto dentro del Google Summer of Code. Matthieu Brucher continúa como parte de su tesis.\n",
    "\n",
    "- La versión estable actual es la v0.22.\n",
    "- Curva de aprendizaje suave.\n",
    "- Es una libreria muy versátil.\n",
    "- Comunidad de soporte.\n",
    "- Usado en producción.\n",
    "- Integración con librerias externas.\n",
    "\n",
    "\n",
    "## Módulos de Sckit-learn\n",
    "\n",
    "1. Clasificación\n",
    "2. Regresión\n",
    "3. Clustering\n",
    "4. Preprocesamiento\n",
    "5. Reducción de la dimensionalidad\n",
    "6. Selección del modelo\n",
    "\n",
    "## Tipos de Aprendizaje de maquina\n",
    "1. **Aprendizaje Supervisado (por observación)**: De nuestros datos se puede inferir directamente.\n",
    "2. **Aprendizaje por Refuerzo (prueba y error)**: No tenemos información precisa sobre lo que esperamos pero sí podemos evaluar si una decisión tomada por la máquina es buena o mala.\n",
    "3. **Aprendizaje No Supervisado (por descubrimiento)**: No sabemos qué esperar de nuestros datos y queremos explorar la estructura o las relaciones del dataset.\n",
    "\n",
    "*Nota:* El ML es solamente una de las posibles ramas que tiene la inteligencia artificial, para otro tipos de problemas existen:\n",
    "- Algoritmos evolutivos.\n",
    "- Lógica difusa.\n",
    "- Agentes.\n",
    "- Sistemas expertos.\n",
    "\n",
    "## Limitaciones de Sklearn\n",
    "1. No es una herramienta de Computer Vision (imagenes).\n",
    "2. No se puede correr en GPUs, solo en CPU (las tareas pueden tomar más tiempo).\n",
    "3. No es una herramienta de estadística avanzada, un alternativa podría ser SciPy.\n",
    "4. No es muy flexible en temas de Deep Learning.\n",
    "\n",
    "## Problema de Clasificación\n",
    "La variable de salida se puede definir en ciertas categorias bien definidas y excluyentes entre sí.\n",
    "\n",
    "## Problema de Regresión\n",
    "La variable de salida es continua y se requiere modelar el comportamiento dadas otras variables correlacionadas.\n",
    "\n",
    "## Problema de Clustering\n",
    "Queremos descubrir subconjuntos de datos similares dentro del dataset o queremos encontrar valores que se salen del comportamiento global.\n",
    "\n",
    "## Fundamentos matematicos que se requieren\n",
    "1. Funciones y trigonometría\n",
    "2. Algebra lineal\n",
    "3. Optimización de funciones (maximos y minimos)\n",
    "4. Calculo basico (derivas e integrales)\n",
    "5. Probabilidad básica\n",
    "6. Combinaciones y permutaciones\n",
    "7. Variables aletorias y sus distribuciones\n",
    "8. Teorema de Bayes\n",
    "9. Pruebas de hipotesis e intervalos de confianza\n"
   ]
  },
  {
   "cell_type": "code",
   "execution_count": null,
   "id": "9d6ab5a8",
   "metadata": {},
   "outputs": [],
   "source": []
  }
 ],
 "metadata": {
  "kernelspec": {
   "display_name": ".venv",
   "language": "python",
   "name": "python3"
  },
  "language_info": {
   "name": "python",
   "version": "3.13.7"
  }
 },
 "nbformat": 4,
 "nbformat_minor": 5
}
